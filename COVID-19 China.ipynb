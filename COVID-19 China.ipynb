{
 "cells": [
  {
   "cell_type": "markdown",
   "metadata": {},
   "source": [
    "# Compare China overall to region Hubei\n"
   ]
  },
  {
   "cell_type": "code",
   "execution_count": 1,
   "metadata": {},
   "outputs": [],
   "source": [
    "import pandas as pd\n",
    "df = pd.read_csv('data/03-02-2020.csv')\n",
    "df = df.drop(columns=['Last Update', 'Latitude', 'Longitude'])\n",
    "\n",
    "groups = df.groupby(['Country/Region'])\n"
   ]
  },
  {
   "cell_type": "markdown",
   "metadata": {},
   "source": [
    "## Just get Mainland China\n",
    "As I want to take a look at china, other countries could be ignored"
   ]
  },
  {
   "cell_type": "code",
   "execution_count": 2,
   "metadata": {},
   "outputs": [],
   "source": [
    "china = groups.get_group('Mainland China')"
   ]
  },
  {
   "cell_type": "markdown",
   "metadata": {},
   "source": [
    "Get Information about confirmed infections from region Hubei and add aggregated confrmed infection from china in total. \n",
    "\n",
    "Add the overall number to the working datafram of hubei."
   ]
  },
  {
   "cell_type": "code",
   "execution_count": 3,
   "metadata": {},
   "outputs": [],
   "source": [
    "hubei = china[china['Province/State'] == 'Hubei'][['Province/State','Confirmed']]\n",
    "overall = china[['Province/State','Confirmed']]\n",
    "overall = overall.sum()\n",
    "\n",
    "hubei['Overall'] = overall['Confirmed']"
   ]
  },
  {
   "cell_type": "markdown",
   "metadata": {},
   "source": [
    "## Finally plot a simple bar chart"
   ]
  },
  {
   "cell_type": "code",
   "execution_count": 4,
   "metadata": {},
   "outputs": [
    {
     "data": {
      "image/png": "[encoded data removed]",
      "text/plain": [
       "<Figure size 576x360 with 1 Axes>"
      ]
     },
     "metadata": {
      "needs_background": "light"
     },
     "output_type": "display_data"
    }
   ],
   "source": [
    "import matplotlib.pyplot as plt\n",
    "plt.figure(figsize=(8,5))\n",
    "\n",
    "ax = plt.gca()\n",
    "plt.xlabel('Region')\n",
    "plt.ylabel('Confirmed infections')\n",
    "\n",
    "# ugly, but it works...\n",
    "plt.bar(['Overall', 'Hubei'], [hubei['Overall'][0],hubei['Confirmed'][0]], color=['purple', 'red'])\n",
    "plt.title('China overall vs. China region Hubei')\n",
    "\n",
    "plt.savefig('china_hubei.png', dpi=300)\n",
    "\n",
    "plt.show()\n",
    "\n"
   ]
  },
  {
   "cell_type": "code",
   "execution_count": null,
   "metadata": {},
   "outputs": [],
   "source": []
  }
 ],
 "metadata": {
  "kernelspec": {
   "display_name": "Python 3",
   "language": "python",
   "name": "python3"
  },
  "language_info": {
   "codemirror_mode": {
    "name": "ipython",
    "version": 3
   },
   "file_extension": ".py",
   "mimetype": "text/x-python",
   "name": "python",
   "nbconvert_exporter": "python",
   "pygments_lexer": "ipython3",
   "version": "3.8.1"
  }
 },
 "nbformat": 4,
 "nbformat_minor": 4
}
